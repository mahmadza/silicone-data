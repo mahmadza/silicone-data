{
 "cells": [
  {
   "cell_type": "code",
   "execution_count": 5,
   "id": "b594b493-d455-4679-85eb-ae454ce0a98d",
   "metadata": {},
   "outputs": [],
   "source": [
    "from sdv.demo import load_tabular_demo\n",
    "from sdv.tabular import GaussianCopula\n",
    "\n",
    "import warnings\n",
    "warnings.filterwarnings('ignore')\n",
    "\n",
    "real_data = load_tabular_demo('student_placements')\n",
    "model = GaussianCopula()\n",
    "model.fit(real_data)\n",
    "synthetic_data = model.sample()"
   ]
  },
  {
   "cell_type": "code",
   "execution_count": 6,
   "id": "66c81317-b826-4651-a308-a5d8587a4268",
   "metadata": {},
   "outputs": [
    {
     "data": {
      "text/html": [
       "<div>\n",
       "<style scoped>\n",
       "    .dataframe tbody tr th:only-of-type {\n",
       "        vertical-align: middle;\n",
       "    }\n",
       "\n",
       "    .dataframe tbody tr th {\n",
       "        vertical-align: top;\n",
       "    }\n",
       "\n",
       "    .dataframe thead th {\n",
       "        text-align: right;\n",
       "    }\n",
       "</style>\n",
       "<table border=\"1\" class=\"dataframe\">\n",
       "  <thead>\n",
       "    <tr style=\"text-align: right;\">\n",
       "      <th></th>\n",
       "      <th>student_id</th>\n",
       "      <th>gender</th>\n",
       "      <th>second_perc</th>\n",
       "      <th>high_perc</th>\n",
       "      <th>high_spec</th>\n",
       "      <th>degree_perc</th>\n",
       "      <th>degree_type</th>\n",
       "      <th>work_experience</th>\n",
       "      <th>experience_years</th>\n",
       "      <th>employability_perc</th>\n",
       "      <th>mba_spec</th>\n",
       "      <th>mba_perc</th>\n",
       "      <th>salary</th>\n",
       "      <th>placed</th>\n",
       "      <th>start_date</th>\n",
       "      <th>end_date</th>\n",
       "      <th>duration</th>\n",
       "    </tr>\n",
       "  </thead>\n",
       "  <tbody>\n",
       "    <tr>\n",
       "      <th>0</th>\n",
       "      <td>17264</td>\n",
       "      <td>M</td>\n",
       "      <td>67.00</td>\n",
       "      <td>91.00</td>\n",
       "      <td>Commerce</td>\n",
       "      <td>58.00</td>\n",
       "      <td>Sci&amp;Tech</td>\n",
       "      <td>False</td>\n",
       "      <td>0</td>\n",
       "      <td>55.0</td>\n",
       "      <td>Mkt&amp;HR</td>\n",
       "      <td>58.80</td>\n",
       "      <td>27000.0</td>\n",
       "      <td>True</td>\n",
       "      <td>2020-07-23</td>\n",
       "      <td>2020-10-12</td>\n",
       "      <td>3.0</td>\n",
       "    </tr>\n",
       "    <tr>\n",
       "      <th>1</th>\n",
       "      <td>17265</td>\n",
       "      <td>M</td>\n",
       "      <td>79.33</td>\n",
       "      <td>78.33</td>\n",
       "      <td>Science</td>\n",
       "      <td>77.48</td>\n",
       "      <td>Sci&amp;Tech</td>\n",
       "      <td>True</td>\n",
       "      <td>1</td>\n",
       "      <td>86.5</td>\n",
       "      <td>Mkt&amp;Fin</td>\n",
       "      <td>66.28</td>\n",
       "      <td>20000.0</td>\n",
       "      <td>True</td>\n",
       "      <td>2020-01-11</td>\n",
       "      <td>2020-04-09</td>\n",
       "      <td>3.0</td>\n",
       "    </tr>\n",
       "  </tbody>\n",
       "</table>\n",
       "</div>"
      ],
      "text/plain": [
       "   student_id gender  second_perc  ...  start_date   end_date  duration\n",
       "0       17264      M        67.00  ...  2020-07-23 2020-10-12       3.0\n",
       "1       17265      M        79.33  ...  2020-01-11 2020-04-09       3.0\n",
       "\n",
       "[2 rows x 17 columns]"
      ]
     },
     "execution_count": 6,
     "metadata": {},
     "output_type": "execute_result"
    }
   ],
   "source": [
    "real_data.head(2)"
   ]
  },
  {
   "cell_type": "code",
   "execution_count": 7,
   "id": "9a0777d2-8800-4a64-85f5-cdfa67cff35c",
   "metadata": {},
   "outputs": [
    {
     "data": {
      "text/html": [
       "<div>\n",
       "<style scoped>\n",
       "    .dataframe tbody tr th:only-of-type {\n",
       "        vertical-align: middle;\n",
       "    }\n",
       "\n",
       "    .dataframe tbody tr th {\n",
       "        vertical-align: top;\n",
       "    }\n",
       "\n",
       "    .dataframe thead th {\n",
       "        text-align: right;\n",
       "    }\n",
       "</style>\n",
       "<table border=\"1\" class=\"dataframe\">\n",
       "  <thead>\n",
       "    <tr style=\"text-align: right;\">\n",
       "      <th></th>\n",
       "      <th>student_id</th>\n",
       "      <th>gender</th>\n",
       "      <th>second_perc</th>\n",
       "      <th>high_perc</th>\n",
       "      <th>high_spec</th>\n",
       "      <th>degree_perc</th>\n",
       "      <th>degree_type</th>\n",
       "      <th>work_experience</th>\n",
       "      <th>experience_years</th>\n",
       "      <th>employability_perc</th>\n",
       "      <th>mba_spec</th>\n",
       "      <th>mba_perc</th>\n",
       "      <th>salary</th>\n",
       "      <th>placed</th>\n",
       "      <th>start_date</th>\n",
       "      <th>end_date</th>\n",
       "      <th>duration</th>\n",
       "    </tr>\n",
       "  </thead>\n",
       "  <tbody>\n",
       "    <tr>\n",
       "      <th>0</th>\n",
       "      <td>17293</td>\n",
       "      <td>F</td>\n",
       "      <td>79.91</td>\n",
       "      <td>70.84</td>\n",
       "      <td>Commerce</td>\n",
       "      <td>65.10</td>\n",
       "      <td>Sci&amp;Tech</td>\n",
       "      <td>False</td>\n",
       "      <td>1</td>\n",
       "      <td>84.74</td>\n",
       "      <td>Mkt&amp;Fin</td>\n",
       "      <td>57.21</td>\n",
       "      <td>26600.0</td>\n",
       "      <td>True</td>\n",
       "      <td>2020-01-03</td>\n",
       "      <td>2020-06-27</td>\n",
       "      <td>7.0</td>\n",
       "    </tr>\n",
       "    <tr>\n",
       "      <th>1</th>\n",
       "      <td>17299</td>\n",
       "      <td>F</td>\n",
       "      <td>70.92</td>\n",
       "      <td>70.29</td>\n",
       "      <td>Science</td>\n",
       "      <td>69.86</td>\n",
       "      <td>Sci&amp;Tech</td>\n",
       "      <td>False</td>\n",
       "      <td>0</td>\n",
       "      <td>82.30</td>\n",
       "      <td>Mkt&amp;Fin</td>\n",
       "      <td>57.19</td>\n",
       "      <td>28100.0</td>\n",
       "      <td>True</td>\n",
       "      <td>2020-04-05</td>\n",
       "      <td>2020-12-09</td>\n",
       "      <td>7.0</td>\n",
       "    </tr>\n",
       "  </tbody>\n",
       "</table>\n",
       "</div>"
      ],
      "text/plain": [
       "   student_id gender  second_perc  ...  start_date   end_date  duration\n",
       "0       17293      F        79.91  ...  2020-01-03 2020-06-27       7.0\n",
       "1       17299      F        70.92  ...  2020-04-05 2020-12-09       7.0\n",
       "\n",
       "[2 rows x 17 columns]"
      ]
     },
     "execution_count": 7,
     "metadata": {},
     "output_type": "execute_result"
    }
   ],
   "source": [
    "synthetic_data.head(2)"
   ]
  },
  {
   "cell_type": "markdown",
   "id": "1dc6d6ab-b3e0-478a-8111-f12017be05db",
   "metadata": {},
   "source": [
    "## Overall Score"
   ]
  },
  {
   "cell_type": "code",
   "execution_count": 10,
   "id": "828fe71f-3f10-4eb4-8fe2-24baea232e22",
   "metadata": {},
   "outputs": [
    {
     "data": {
      "text/plain": [
       "0.6115880032828156"
      ]
     },
     "execution_count": 10,
     "metadata": {},
     "output_type": "execute_result"
    }
   ],
   "source": [
    "from sdv.evaluation import evaluate\n",
    "evaluate(synthetic_data, real_data)"
   ]
  },
  {
   "cell_type": "code",
   "execution_count": 12,
   "id": "b46cd2ab-085a-4f52-a475-70f88a4d39e5",
   "metadata": {},
   "outputs": [
    {
     "data": {
      "text/plain": [
       "0.8921899749168275"
      ]
     },
     "execution_count": 12,
     "metadata": {},
     "output_type": "execute_result"
    }
   ],
   "source": [
    "evaluate(synthetic_data, real_data, metrics = ['CSTest','KSTest'])"
   ]
  },
  {
   "cell_type": "code",
   "execution_count": null,
   "id": "64df1735-9147-409b-8009-a5e7e8a4779a",
   "metadata": {},
   "outputs": [],
   "source": []
  }
 ],
 "metadata": {
  "kernelspec": {
   "display_name": "Python 3 (ipykernel)",
   "language": "python",
   "name": "python3"
  },
  "language_info": {
   "codemirror_mode": {
    "name": "ipython",
    "version": 3
   },
   "file_extension": ".py",
   "mimetype": "text/x-python",
   "name": "python",
   "nbconvert_exporter": "python",
   "pygments_lexer": "ipython3",
   "version": "3.7.11"
  }
 },
 "nbformat": 4,
 "nbformat_minor": 5
}
