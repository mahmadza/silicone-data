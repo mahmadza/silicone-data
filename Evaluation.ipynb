{
 "cells": [
  {
   "cell_type": "code",
   "execution_count": 1,
   "id": "b594b493-d455-4679-85eb-ae454ce0a98d",
   "metadata": {},
   "outputs": [],
   "source": [
    "from sdv.demo import load_tabular_demo\n",
    "from sdv.tabular import GaussianCopula\n",
    "\n",
    "import warnings\n",
    "warnings.filterwarnings('ignore')\n",
    "\n",
    "real_data = load_tabular_demo('student_placements')\n",
    "model = GaussianCopula()\n",
    "model.fit(real_data)\n",
    "synthetic_data = model.sample()"
   ]
  },
  {
   "cell_type": "code",
   "execution_count": 2,
   "id": "66c81317-b826-4651-a308-a5d8587a4268",
   "metadata": {},
   "outputs": [
    {
     "data": {
      "text/html": [
       "<div>\n",
       "<style scoped>\n",
       "    .dataframe tbody tr th:only-of-type {\n",
       "        vertical-align: middle;\n",
       "    }\n",
       "\n",
       "    .dataframe tbody tr th {\n",
       "        vertical-align: top;\n",
       "    }\n",
       "\n",
       "    .dataframe thead th {\n",
       "        text-align: right;\n",
       "    }\n",
       "</style>\n",
       "<table border=\"1\" class=\"dataframe\">\n",
       "  <thead>\n",
       "    <tr style=\"text-align: right;\">\n",
       "      <th></th>\n",
       "      <th>student_id</th>\n",
       "      <th>gender</th>\n",
       "      <th>second_perc</th>\n",
       "      <th>high_perc</th>\n",
       "      <th>high_spec</th>\n",
       "      <th>degree_perc</th>\n",
       "      <th>degree_type</th>\n",
       "      <th>work_experience</th>\n",
       "      <th>experience_years</th>\n",
       "      <th>employability_perc</th>\n",
       "      <th>mba_spec</th>\n",
       "      <th>mba_perc</th>\n",
       "      <th>salary</th>\n",
       "      <th>placed</th>\n",
       "      <th>start_date</th>\n",
       "      <th>end_date</th>\n",
       "      <th>duration</th>\n",
       "    </tr>\n",
       "  </thead>\n",
       "  <tbody>\n",
       "    <tr>\n",
       "      <th>0</th>\n",
       "      <td>17264</td>\n",
       "      <td>M</td>\n",
       "      <td>67.00</td>\n",
       "      <td>91.00</td>\n",
       "      <td>Commerce</td>\n",
       "      <td>58.00</td>\n",
       "      <td>Sci&amp;Tech</td>\n",
       "      <td>False</td>\n",
       "      <td>0</td>\n",
       "      <td>55.0</td>\n",
       "      <td>Mkt&amp;HR</td>\n",
       "      <td>58.80</td>\n",
       "      <td>27000.0</td>\n",
       "      <td>True</td>\n",
       "      <td>2020-07-23</td>\n",
       "      <td>2020-10-12</td>\n",
       "      <td>3.0</td>\n",
       "    </tr>\n",
       "    <tr>\n",
       "      <th>1</th>\n",
       "      <td>17265</td>\n",
       "      <td>M</td>\n",
       "      <td>79.33</td>\n",
       "      <td>78.33</td>\n",
       "      <td>Science</td>\n",
       "      <td>77.48</td>\n",
       "      <td>Sci&amp;Tech</td>\n",
       "      <td>True</td>\n",
       "      <td>1</td>\n",
       "      <td>86.5</td>\n",
       "      <td>Mkt&amp;Fin</td>\n",
       "      <td>66.28</td>\n",
       "      <td>20000.0</td>\n",
       "      <td>True</td>\n",
       "      <td>2020-01-11</td>\n",
       "      <td>2020-04-09</td>\n",
       "      <td>3.0</td>\n",
       "    </tr>\n",
       "  </tbody>\n",
       "</table>\n",
       "</div>"
      ],
      "text/plain": [
       "   student_id gender  second_perc  high_perc high_spec  degree_perc  \\\n",
       "0       17264      M        67.00      91.00  Commerce        58.00   \n",
       "1       17265      M        79.33      78.33   Science        77.48   \n",
       "\n",
       "  degree_type  work_experience  experience_years  employability_perc mba_spec  \\\n",
       "0    Sci&Tech            False                 0                55.0   Mkt&HR   \n",
       "1    Sci&Tech             True                 1                86.5  Mkt&Fin   \n",
       "\n",
       "   mba_perc   salary  placed start_date   end_date  duration  \n",
       "0     58.80  27000.0    True 2020-07-23 2020-10-12       3.0  \n",
       "1     66.28  20000.0    True 2020-01-11 2020-04-09       3.0  "
      ]
     },
     "execution_count": 2,
     "metadata": {},
     "output_type": "execute_result"
    }
   ],
   "source": [
    "real_data.head(2)"
   ]
  },
  {
   "cell_type": "code",
   "execution_count": 3,
   "id": "9a0777d2-8800-4a64-85f5-cdfa67cff35c",
   "metadata": {},
   "outputs": [
    {
     "data": {
      "text/html": [
       "<div>\n",
       "<style scoped>\n",
       "    .dataframe tbody tr th:only-of-type {\n",
       "        vertical-align: middle;\n",
       "    }\n",
       "\n",
       "    .dataframe tbody tr th {\n",
       "        vertical-align: top;\n",
       "    }\n",
       "\n",
       "    .dataframe thead th {\n",
       "        text-align: right;\n",
       "    }\n",
       "</style>\n",
       "<table border=\"1\" class=\"dataframe\">\n",
       "  <thead>\n",
       "    <tr style=\"text-align: right;\">\n",
       "      <th></th>\n",
       "      <th>student_id</th>\n",
       "      <th>gender</th>\n",
       "      <th>second_perc</th>\n",
       "      <th>high_perc</th>\n",
       "      <th>high_spec</th>\n",
       "      <th>degree_perc</th>\n",
       "      <th>degree_type</th>\n",
       "      <th>work_experience</th>\n",
       "      <th>experience_years</th>\n",
       "      <th>employability_perc</th>\n",
       "      <th>mba_spec</th>\n",
       "      <th>mba_perc</th>\n",
       "      <th>salary</th>\n",
       "      <th>placed</th>\n",
       "      <th>start_date</th>\n",
       "      <th>end_date</th>\n",
       "      <th>duration</th>\n",
       "    </tr>\n",
       "  </thead>\n",
       "  <tbody>\n",
       "    <tr>\n",
       "      <th>0</th>\n",
       "      <td>17448</td>\n",
       "      <td>M</td>\n",
       "      <td>73.27</td>\n",
       "      <td>65.18</td>\n",
       "      <td>Commerce</td>\n",
       "      <td>63.59</td>\n",
       "      <td>Comm&amp;Mgmt</td>\n",
       "      <td>False</td>\n",
       "      <td>1</td>\n",
       "      <td>78.48</td>\n",
       "      <td>Mkt&amp;Fin</td>\n",
       "      <td>59.57</td>\n",
       "      <td>25200.0</td>\n",
       "      <td>True</td>\n",
       "      <td>2020-03-16</td>\n",
       "      <td>2020-10-16</td>\n",
       "      <td>5.0</td>\n",
       "    </tr>\n",
       "    <tr>\n",
       "      <th>1</th>\n",
       "      <td>17281</td>\n",
       "      <td>M</td>\n",
       "      <td>68.30</td>\n",
       "      <td>73.27</td>\n",
       "      <td>Commerce</td>\n",
       "      <td>70.97</td>\n",
       "      <td>Comm&amp;Mgmt</td>\n",
       "      <td>False</td>\n",
       "      <td>0</td>\n",
       "      <td>74.07</td>\n",
       "      <td>Mkt&amp;Fin</td>\n",
       "      <td>58.83</td>\n",
       "      <td>24000.0</td>\n",
       "      <td>True</td>\n",
       "      <td>2020-03-02</td>\n",
       "      <td>2020-07-16</td>\n",
       "      <td>3.0</td>\n",
       "    </tr>\n",
       "  </tbody>\n",
       "</table>\n",
       "</div>"
      ],
      "text/plain": [
       "   student_id gender  second_perc  high_perc high_spec  degree_perc  \\\n",
       "0       17448      M        73.27      65.18  Commerce        63.59   \n",
       "1       17281      M        68.30      73.27  Commerce        70.97   \n",
       "\n",
       "  degree_type  work_experience  experience_years  employability_perc mba_spec  \\\n",
       "0   Comm&Mgmt            False                 1               78.48  Mkt&Fin   \n",
       "1   Comm&Mgmt            False                 0               74.07  Mkt&Fin   \n",
       "\n",
       "   mba_perc   salary  placed start_date   end_date  duration  \n",
       "0     59.57  25200.0    True 2020-03-16 2020-10-16       5.0  \n",
       "1     58.83  24000.0    True 2020-03-02 2020-07-16       3.0  "
      ]
     },
     "execution_count": 3,
     "metadata": {},
     "output_type": "execute_result"
    }
   ],
   "source": [
    "synthetic_data.head(2)"
   ]
  },
  {
   "cell_type": "markdown",
   "id": "1dc6d6ab-b3e0-478a-8111-f12017be05db",
   "metadata": {},
   "source": [
    "## Overall Score"
   ]
  },
  {
   "cell_type": "code",
   "execution_count": 4,
   "id": "828fe71f-3f10-4eb4-8fe2-24baea232e22",
   "metadata": {},
   "outputs": [
    {
     "data": {
      "text/plain": [
       "0.5992301152029204"
      ]
     },
     "execution_count": 4,
     "metadata": {},
     "output_type": "execute_result"
    }
   ],
   "source": [
    "from sdv.evaluation import evaluate\n",
    "evaluate(synthetic_data, real_data)"
   ]
  },
  {
   "cell_type": "code",
   "execution_count": 5,
   "id": "b46cd2ab-085a-4f52-a475-70f88a4d39e5",
   "metadata": {},
   "outputs": [
    {
     "data": {
      "text/plain": [
       "0.8853812099389685"
      ]
     },
     "execution_count": 5,
     "metadata": {},
     "output_type": "execute_result"
    }
   ],
   "source": [
    "evaluate(synthetic_data, real_data, metrics = ['CSTest','KSTest'])"
   ]
  },
  {
   "cell_type": "markdown",
   "id": "c889f7bc-5c02-4e9e-a8b4-93a2efa9f872",
   "metadata": {},
   "source": [
    "## Time Series Metrics"
   ]
  },
  {
   "cell_type": "code",
   "execution_count": 6,
   "id": "ea93f64f-dc70-48a5-b723-5a394a79685d",
   "metadata": {},
   "outputs": [],
   "source": [
    "from sdv.metrics.demos import load_timeseries_demo\n",
    "real_data, synthetic_data, metadata = load_timeseries_demo()"
   ]
  },
  {
   "cell_type": "code",
   "execution_count": 7,
   "id": "e57f0b98-bd93-44b5-bf76-4e09405cfc33",
   "metadata": {},
   "outputs": [
    {
     "data": {
      "text/html": [
       "<div>\n",
       "<style scoped>\n",
       "    .dataframe tbody tr th:only-of-type {\n",
       "        vertical-align: middle;\n",
       "    }\n",
       "\n",
       "    .dataframe tbody tr th {\n",
       "        vertical-align: top;\n",
       "    }\n",
       "\n",
       "    .dataframe thead th {\n",
       "        text-align: right;\n",
       "    }\n",
       "</style>\n",
       "<table border=\"1\" class=\"dataframe\">\n",
       "  <thead>\n",
       "    <tr style=\"text-align: right;\">\n",
       "      <th></th>\n",
       "      <th>date</th>\n",
       "      <th>store_id</th>\n",
       "      <th>region</th>\n",
       "      <th>day_of_week</th>\n",
       "      <th>total_sales</th>\n",
       "      <th>nb_customers</th>\n",
       "    </tr>\n",
       "  </thead>\n",
       "  <tbody>\n",
       "    <tr>\n",
       "      <th>0</th>\n",
       "      <td>2020-06-01</td>\n",
       "      <td>68608</td>\n",
       "      <td>New York</td>\n",
       "      <td>0</td>\n",
       "      <td>736.19</td>\n",
       "      <td>43</td>\n",
       "    </tr>\n",
       "    <tr>\n",
       "      <th>1</th>\n",
       "      <td>2020-06-02</td>\n",
       "      <td>68608</td>\n",
       "      <td>New York</td>\n",
       "      <td>1</td>\n",
       "      <td>777.31</td>\n",
       "      <td>45</td>\n",
       "    </tr>\n",
       "  </tbody>\n",
       "</table>\n",
       "</div>"
      ],
      "text/plain": [
       "        date  store_id    region  day_of_week  total_sales  nb_customers\n",
       "0 2020-06-01     68608  New York            0       736.19            43\n",
       "1 2020-06-02     68608  New York            1       777.31            45"
      ]
     },
     "execution_count": 7,
     "metadata": {},
     "output_type": "execute_result"
    }
   ],
   "source": [
    "real_data.head(2)"
   ]
  },
  {
   "cell_type": "code",
   "execution_count": 9,
   "id": "e6c1875b-5ec2-4bd5-938b-b9b16c756d32",
   "metadata": {},
   "outputs": [
    {
     "data": {
      "text/html": [
       "<div>\n",
       "<style scoped>\n",
       "    .dataframe tbody tr th:only-of-type {\n",
       "        vertical-align: middle;\n",
       "    }\n",
       "\n",
       "    .dataframe tbody tr th {\n",
       "        vertical-align: top;\n",
       "    }\n",
       "\n",
       "    .dataframe thead th {\n",
       "        text-align: right;\n",
       "    }\n",
       "</style>\n",
       "<table border=\"1\" class=\"dataframe\">\n",
       "  <thead>\n",
       "    <tr style=\"text-align: right;\">\n",
       "      <th></th>\n",
       "      <th>date</th>\n",
       "      <th>store_id</th>\n",
       "      <th>region</th>\n",
       "      <th>day_of_week</th>\n",
       "      <th>total_sales</th>\n",
       "      <th>nb_customers</th>\n",
       "    </tr>\n",
       "  </thead>\n",
       "  <tbody>\n",
       "    <tr>\n",
       "      <th>0</th>\n",
       "      <td>2020-06-01</td>\n",
       "      <td>0</td>\n",
       "      <td>New York</td>\n",
       "      <td>0</td>\n",
       "      <td>762.349155</td>\n",
       "      <td>43</td>\n",
       "    </tr>\n",
       "    <tr>\n",
       "      <th>1</th>\n",
       "      <td>2020-06-02</td>\n",
       "      <td>0</td>\n",
       "      <td>New York</td>\n",
       "      <td>1</td>\n",
       "      <td>809.673681</td>\n",
       "      <td>42</td>\n",
       "    </tr>\n",
       "  </tbody>\n",
       "</table>\n",
       "</div>"
      ],
      "text/plain": [
       "        date  store_id    region  day_of_week  total_sales  nb_customers\n",
       "0 2020-06-01         0  New York            0   762.349155            43\n",
       "1 2020-06-02         0  New York            1   809.673681            42"
      ]
     },
     "execution_count": 9,
     "metadata": {},
     "output_type": "execute_result"
    }
   ],
   "source": [
    "synthetic_data.head(2)"
   ]
  },
  {
   "cell_type": "code",
   "execution_count": 10,
   "id": "d01dc923-67b1-4f46-9b07-8376e937e99f",
   "metadata": {},
   "outputs": [
    {
     "data": {
      "text/plain": [
       "{'fields': {'region': {'type': 'categorical'},\n",
       "  'store_id': {'type': 'numerical', 'subtype': 'integer'},\n",
       "  'nb_customers': {'type': 'numerical', 'subtype': 'integer'},\n",
       "  'total_sales': {'type': 'numerical', 'subtype': 'float'},\n",
       "  'date': {'type': 'datetime'},\n",
       "  'day_of_week': {'type': 'numerical', 'subtype': 'integer'}},\n",
       " 'entity_columns': ['store_id'],\n",
       " 'sequence_index': 'date',\n",
       " 'context_columns': ['region']}"
      ]
     },
     "execution_count": 10,
     "metadata": {},
     "output_type": "execute_result"
    }
   ],
   "source": [
    "metadata"
   ]
  },
  {
   "cell_type": "markdown",
   "id": "1724375d-f308-42c2-8a33-e6e2e00d524a",
   "metadata": {},
   "source": [
    "### Time Series Metrics: Detection Metrics"
   ]
  },
  {
   "cell_type": "code",
   "execution_count": 11,
   "id": "d0ace054-5f26-46ee-9cc5-1d412b3c5954",
   "metadata": {},
   "outputs": [],
   "source": [
    "from sdv.metrics.timeseries import LSTMDetection, TSFCDetection"
   ]
  },
  {
   "cell_type": "code",
   "execution_count": 12,
   "id": "27f3e09c-04e2-4c38-91fd-cdb5e5abc601",
   "metadata": {},
   "outputs": [
    {
     "data": {
      "text/plain": [
       "0.5"
      ]
     },
     "execution_count": 12,
     "metadata": {},
     "output_type": "execute_result"
    }
   ],
   "source": [
    "# use LSTM classifier to perform detection\n",
    "LSTMDetection.compute(real_data, synthetic_data, metadata)"
   ]
  },
  {
   "cell_type": "code",
   "execution_count": 13,
   "id": "542eba48-845d-4b96-873b-601af222a1fa",
   "metadata": {},
   "outputs": [
    {
     "data": {
      "text/plain": [
       "0.07999999999999996"
      ]
     },
     "execution_count": 13,
     "metadata": {},
     "output_type": "execute_result"
    }
   ],
   "source": [
    "# use TimeSeriesForestClassifier using sktime\n",
    "TSFCDetection.compute(real_data, synthetic_data, metadata)"
   ]
  },
  {
   "cell_type": "markdown",
   "id": "2027458a-adc4-4f28-949e-924a2e4c0ca8",
   "metadata": {},
   "source": [
    "### Time Series Metrics: Machine Learning Efficacy Metrics"
   ]
  },
  {
   "cell_type": "code",
   "execution_count": 14,
   "id": "fc298ddb-df63-4ba0-aa81-871cfe1656e6",
   "metadata": {},
   "outputs": [
    {
     "data": {
      "text/plain": [
       "1.0"
      ]
     },
     "execution_count": 14,
     "metadata": {},
     "output_type": "execute_result"
    }
   ],
   "source": [
    "from sdv.metrics.timeseries import TSFClassifierEfficacy\n",
    "TSFClassifierEfficacy.compute(real_data, synthetic_data, metadata, target = 'region')"
   ]
  },
  {
   "cell_type": "code",
   "execution_count": null,
   "id": "c1ff9ce6-04b3-4971-9447-9dcfc8133fc3",
   "metadata": {},
   "outputs": [],
   "source": []
  }
 ],
 "metadata": {
  "kernelspec": {
   "display_name": "Python 3 (ipykernel)",
   "language": "python",
   "name": "python3"
  },
  "language_info": {
   "codemirror_mode": {
    "name": "ipython",
    "version": 3
   },
   "file_extension": ".py",
   "mimetype": "text/x-python",
   "name": "python",
   "nbconvert_exporter": "python",
   "pygments_lexer": "ipython3",
   "version": "3.7.11"
  }
 },
 "nbformat": 4,
 "nbformat_minor": 5
}
