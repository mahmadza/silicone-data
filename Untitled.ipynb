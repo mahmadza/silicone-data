{
 "cells": [
  {
   "cell_type": "markdown",
   "id": "25223536-9308-4d2a-913a-e6112b679075",
   "metadata": {},
   "source": [
    "# Generating Timeseries Synthetic Data using PAR model"
   ]
  },
  {
   "cell_type": "markdown",
   "id": "f0abd501-2595-4011-af04-9cd9cf25746e",
   "metadata": {},
   "source": [
    "From SDV online manual"
   ]
  },
  {
   "cell_type": "code",
   "execution_count": null,
   "id": "22326f26-dc19-4d7d-8f70-28b295572044",
   "metadata": {},
   "outputs": [],
   "source": [
    "from sdv.demo import load_timeseries_demo"
   ]
  },
  {
   "cell_type": "code",
   "execution_count": 3,
   "id": "f5da749f-e180-4349-8538-cb51e8e62299",
   "metadata": {},
   "outputs": [
    {
     "data": {
      "text/html": [
       "<div>\n",
       "<style scoped>\n",
       "    .dataframe tbody tr th:only-of-type {\n",
       "        vertical-align: middle;\n",
       "    }\n",
       "\n",
       "    .dataframe tbody tr th {\n",
       "        vertical-align: top;\n",
       "    }\n",
       "\n",
       "    .dataframe thead th {\n",
       "        text-align: right;\n",
       "    }\n",
       "</style>\n",
       "<table border=\"1\" class=\"dataframe\">\n",
       "  <thead>\n",
       "    <tr style=\"text-align: right;\">\n",
       "      <th></th>\n",
       "      <th>Symbol</th>\n",
       "      <th>Date</th>\n",
       "      <th>Open</th>\n",
       "      <th>Close</th>\n",
       "      <th>Volume</th>\n",
       "      <th>MarketCap</th>\n",
       "      <th>Sector</th>\n",
       "      <th>Industry</th>\n",
       "    </tr>\n",
       "  </thead>\n",
       "  <tbody>\n",
       "    <tr>\n",
       "      <th>0</th>\n",
       "      <td>AAPL</td>\n",
       "      <td>2018-12-31</td>\n",
       "      <td>39.632500</td>\n",
       "      <td>39.435001</td>\n",
       "      <td>140014000</td>\n",
       "      <td>7.378734e+11</td>\n",
       "      <td>Technology</td>\n",
       "      <td>Computer Manufacturing</td>\n",
       "    </tr>\n",
       "    <tr>\n",
       "      <th>1</th>\n",
       "      <td>AAPL</td>\n",
       "      <td>2019-01-02</td>\n",
       "      <td>38.722500</td>\n",
       "      <td>39.480000</td>\n",
       "      <td>148158800</td>\n",
       "      <td>7.378734e+11</td>\n",
       "      <td>Technology</td>\n",
       "      <td>Computer Manufacturing</td>\n",
       "    </tr>\n",
       "    <tr>\n",
       "      <th>2</th>\n",
       "      <td>AAPL</td>\n",
       "      <td>2019-01-03</td>\n",
       "      <td>35.994999</td>\n",
       "      <td>35.547501</td>\n",
       "      <td>365248800</td>\n",
       "      <td>7.378734e+11</td>\n",
       "      <td>Technology</td>\n",
       "      <td>Computer Manufacturing</td>\n",
       "    </tr>\n",
       "    <tr>\n",
       "      <th>3</th>\n",
       "      <td>AAPL</td>\n",
       "      <td>2019-01-04</td>\n",
       "      <td>36.132500</td>\n",
       "      <td>37.064999</td>\n",
       "      <td>234428400</td>\n",
       "      <td>7.378734e+11</td>\n",
       "      <td>Technology</td>\n",
       "      <td>Computer Manufacturing</td>\n",
       "    </tr>\n",
       "    <tr>\n",
       "      <th>4</th>\n",
       "      <td>AAPL</td>\n",
       "      <td>2019-01-07</td>\n",
       "      <td>37.174999</td>\n",
       "      <td>36.982498</td>\n",
       "      <td>219111200</td>\n",
       "      <td>7.378734e+11</td>\n",
       "      <td>Technology</td>\n",
       "      <td>Computer Manufacturing</td>\n",
       "    </tr>\n",
       "  </tbody>\n",
       "</table>\n",
       "</div>"
      ],
      "text/plain": [
       "  Symbol       Date  ...      Sector                Industry\n",
       "0   AAPL 2018-12-31  ...  Technology  Computer Manufacturing\n",
       "1   AAPL 2019-01-02  ...  Technology  Computer Manufacturing\n",
       "2   AAPL 2019-01-03  ...  Technology  Computer Manufacturing\n",
       "3   AAPL 2019-01-04  ...  Technology  Computer Manufacturing\n",
       "4   AAPL 2019-01-07  ...  Technology  Computer Manufacturing\n",
       "\n",
       "[5 rows x 8 columns]"
      ]
     },
     "execution_count": 3,
     "metadata": {},
     "output_type": "execute_result"
    }
   ],
   "source": [
    "data = load_timeseries_demo()\n",
    "data.head()"
   ]
  },
  {
   "cell_type": "code",
   "execution_count": 6,
   "id": "c33162a0-1e84-4d42-baef-6d7b2128d0ff",
   "metadata": {},
   "outputs": [
    {
     "data": {
      "text/plain": [
       "(25784, 8)"
      ]
     },
     "execution_count": 6,
     "metadata": {},
     "output_type": "execute_result"
    }
   ],
   "source": [
    "data.shape"
   ]
  },
  {
   "cell_type": "code",
   "execution_count": null,
   "id": "81e9dbac-cdb7-43be-a011-a8e1a8d4cdc0",
   "metadata": {},
   "outputs": [],
   "source": [
    "from sdv.timeseries import PAR\n",
    "\n",
    "\n",
    "entity_columns = ['Symbol']\n",
    "context_columns = ['MarketCap', 'Sector', 'Industry']\n",
    "sequence_index = 'Date'\n",
    "model = PAR(\n",
    "    entity_columns=entity_columns,\n",
    "    context_columns=context_columns,\n",
    "    sequence_index=sequence_index,\n",
    ")\n",
    "model.fit(data)"
   ]
  },
  {
   "cell_type": "code",
   "execution_count": null,
   "id": "7aae6428-14fa-49e6-aa9b-2da5a630561f",
   "metadata": {},
   "outputs": [],
   "source": [
    "# generate a single sequence\n",
    "new_data = model.sample(1)"
   ]
  }
 ],
 "metadata": {
  "kernelspec": {
   "display_name": "Python 3 (ipykernel)",
   "language": "python",
   "name": "python3"
  },
  "language_info": {
   "codemirror_mode": {
    "name": "ipython",
    "version": 3
   },
   "file_extension": ".py",
   "mimetype": "text/x-python",
   "name": "python",
   "nbconvert_exporter": "python",
   "pygments_lexer": "ipython3",
   "version": "3.7.11"
  }
 },
 "nbformat": 4,
 "nbformat_minor": 5
}
